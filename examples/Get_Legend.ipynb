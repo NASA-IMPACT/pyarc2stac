{
 "cells": [
  {
   "cell_type": "code",
   "execution_count": 1,
   "id": "473f3edd-1b16-4a1e-bfb2-d4663857a791",
   "metadata": {},
   "outputs": [],
   "source": [
    "from pyarc2stac import get_legend"
   ]
  },
  {
   "cell_type": "code",
   "execution_count": 2,
   "id": "2cf49145-503f-4772-8e79-ce999605d809",
   "metadata": {},
   "outputs": [],
   "source": [
    "collection = \"POWER/power_901_annual_meterology_utc\"\n",
    "image_server_url = f\"https://arcgis.asdc.larc.nasa.gov/server/rest/services/{collection}/ImageServer\""
   ]
  },
  {
   "cell_type": "code",
   "execution_count": 3,
   "id": "f3067f8c-5f09-467a-b194-f01cc2e07c9d",
   "metadata": {},
   "outputs": [],
   "source": [
    "legend = get_legend(img_url=image_server_url)"
   ]
  },
  {
   "cell_type": "code",
   "execution_count": 4,
   "id": "a595ec92-9b2b-4296-aeb0-abf3700d6afe",
   "metadata": {},
   "outputs": [
    {
     "data": {
      "text/plain": [
       "{'layers': [{'layerId': 0,\n",
       "   'layerName': 'POWER/power_901_annual_meterology_utc',\n",
       "   'layerType': 'Raster Layer',\n",
       "   'minScale': 0,\n",
       "   'maxScale': 0,\n",
       "   'legendType': 'Stretched',\n",
       "   'legend': [{'label': 'High : 8972.06',\n",
       "     'url': '9632f29a708d14f7ffa6950657169300',\n",
       "     'imageData': 'iVBORw0KGgoAAAANSUhEUgAAABQAAAAUCAYAAACNiR0NAAAACXBIWXMAAAAAAAAAAAHqZRakAAAAeElEQVQ4ja3RsQ3CQBQE0TlYhAiQ8B04owD334q7gAACJ0jno4n5BTxp/paxXAfS7eunhHqwPADCfJTBm+oRHnbyZCc31SPMJxls+sr2KM1OrnLydvaSLzvk3asGPgvkxeSBQL7cNRAgG14yQH42OMQfApTeuwr+AYLYEoMMYRRCAAAAAElFTkSuQmCC',\n",
       "     'contentType': 'image/png',\n",
       "     'height': 20,\n",
       "     'width': 20},\n",
       "    {'label': '',\n",
       "     'url': '993dab15d066b40b3591f48bd77d5666',\n",
       "     'imageData': 'iVBORw0KGgoAAAANSUhEUgAAABQAAAAUCAYAAACNiR0NAAAACXBIWXMAAAAAAAAAAAHqZRakAAAAh0lEQVQ4jbXTsQ3CQBSD4d/KEx26VCg1M7EBW2UDVkpBdZBQIEikSBR3gSWMB/ga27qU/ospJ50VA0+XB0DcaLzgnb0XHDl4wczRCopSbC1XSZEeLg7oINLoBicjCET7MoNpMYPt6nzKRiy5GkER89XoAfHJZnD33oxcQ6TZ6PGHHapWZ8vwA8yIImKpipDXAAAAAElFTkSuQmCC',\n",
       "     'contentType': 'image/png',\n",
       "     'height': 20,\n",
       "     'width': 20},\n",
       "    {'label': 'Low : 0',\n",
       "     'url': '92a46f91e372e90744ce1a7d03335211',\n",
       "     'imageData': 'iVBORw0KGgoAAAANSUhEUgAAABQAAAAUCAYAAACNiR0NAAAACXBIWXMAAAAAAAAAAAHqZRakAAAAIUlEQVQ4jWP8+/cvAzUBE1VNGzVw1MBRA0cNHDVwCBkIAEMfAx/78kANAAAAAElFTkSuQmCC',\n",
       "     'contentType': 'image/png',\n",
       "     'height': 20,\n",
       "     'width': 20}]}]}"
      ]
     },
     "execution_count": 4,
     "metadata": {},
     "output_type": "execute_result"
    }
   ],
   "source": [
    "legend"
   ]
  },
  {
   "cell_type": "code",
   "execution_count": null,
   "id": "155c5e29-353b-4802-92b7-9a03a9f5d65d",
   "metadata": {},
   "outputs": [],
   "source": []
  }
 ],
 "metadata": {
  "kernelspec": {
   "display_name": "Python 3 (ipykernel)",
   "language": "python",
   "name": "python3"
  },
  "language_info": {
   "codemirror_mode": {
    "name": "ipython",
    "version": 3
   },
   "file_extension": ".py",
   "mimetype": "text/x-python",
   "name": "python",
   "nbconvert_exporter": "python",
   "pygments_lexer": "ipython3",
   "version": "3.10.14"
  }
 },
 "nbformat": 4,
 "nbformat_minor": 5
}
