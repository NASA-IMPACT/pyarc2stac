{
 "cells": [
  {
   "cell_type": "code",
   "execution_count": 17,
   "id": "8142d30a-7776-464b-ba32-00544488eaf4",
   "metadata": {},
   "outputs": [],
   "source": [
    "from pyproj import Transformer\n",
    "def transform_projection(wkid_source_proj, x, y):\n",
    "    \"\"\"Converts coordinates from EPSG:3857 to EPSG:4326.\n",
    "\n",
    "    Args:\n",
    "        wkid_source_proj : The projection source\n",
    "        x (float): The x coordinate (longitude) in EPSG:3857.\n",
    "        y (float): The y coordinate (latitude) in EPSG:3857.\n",
    "\n",
    "    Returns:\n",
    "        tuple: A tuple containing the converted coordinates (longitude, latitude) in EPSG:4326.\n",
    "    \"\"\"\n",
    "    wkid_destination_proj = \"4326\"\n",
    "    if wkid_source_proj == wkid_destination_proj:\n",
    "        return x, y\n",
    "\n",
    "    transformer = Transformer.from_crs(f\"EPSG:{wkid_source_proj}\", f\"EPSG:{wkid_destination_proj}\", always_xy=True)\n",
    "\n",
    "    # Perform the transformation\n",
    "    lon, lat = transformer.transform(x, y)\n",
    "\n",
    "    return [lon, lat]"
   ]
  },
  {
   "cell_type": "code",
   "execution_count": 18,
   "id": "df2b821c-2792-45a7-bc23-2ae071504c13",
   "metadata": {},
   "outputs": [],
   "source": [
    "xmin = -1.4245661416127339E7\n",
    "ymin = 2607531.350087515"
   ]
  },
  {
   "cell_type": "code",
   "execution_count": 19,
   "id": "7f8add3a-694a-4912-8f6b-f70918d7d3f7",
   "metadata": {},
   "outputs": [
    {
     "data": {
      "text/plain": [
       "[-127.97095382498935, 22.797362213152216]"
      ]
     },
     "execution_count": 19,
     "metadata": {},
     "output_type": "execute_result"
    }
   ],
   "source": [
    "transform_projection(\"3857\", xmin, ymin)"
   ]
  },
  {
   "cell_type": "code",
   "execution_count": null,
   "id": "68af24a5-1a38-430e-93b6-e02a513c26c2",
   "metadata": {},
   "outputs": [],
   "source": []
  }
 ],
 "metadata": {
  "kernelspec": {
   "display_name": "Python 3 (ipykernel)",
   "language": "python",
   "name": "python3"
  },
  "language_info": {
   "codemirror_mode": {
    "name": "ipython",
    "version": 3
   },
   "file_extension": ".py",
   "mimetype": "text/x-python",
   "name": "python",
   "nbconvert_exporter": "python",
   "pygments_lexer": "ipython3",
   "version": "3.10.14"
  }
 },
 "nbformat": 4,
 "nbformat_minor": 5
}
