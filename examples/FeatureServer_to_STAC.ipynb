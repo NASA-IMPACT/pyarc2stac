{
 "cells": [
  {
   "cell_type": "code",
   "execution_count": 1,
   "id": "14ac39d9-7b4c-4949-82f7-4ae8bc3c0db8",
   "metadata": {},
   "outputs": [],
   "source": [
    "from pyarc2stac.ArcReader import ArcReader"
   ]
  },
  {
   "cell_type": "code",
   "execution_count": 2,
   "id": "1971ea67-80c0-4b95-897c-a2446720380f",
   "metadata": {},
   "outputs": [],
   "source": [
    "feature_server_url = \"https://services3.arcgis.com/0Fs3HcaFfvzXvm7w/ArcGIS/rest/services/Climate_Mapping_Resilience_and_Adaptation_(CMRA)_Climate_and_Coastal_Inundation_Projections/FeatureServer\""
   ]
  },
  {
   "cell_type": "code",
   "execution_count": 3,
   "id": "d8e86b9c-977e-451d-aecf-4a0cabf45b27",
   "metadata": {},
   "outputs": [],
   "source": [
    "reader = ArcReader(\n",
    "    server_url = feature_server_url\n",
    ")"
   ]
  },
  {
   "cell_type": "code",
   "execution_count": 4,
   "id": "09be58b3-8340-491e-8a79-111601c38c8a",
   "metadata": {},
   "outputs": [],
   "source": [
    "collection = reader.generate_stac()"
   ]
  },
  {
   "cell_type": "code",
   "execution_count": 6,
   "id": "b61b01e9",
   "metadata": {},
   "outputs": [
    {
     "data": {
      "text/plain": [
       "{'type': 'Collection',\n",
       " 'id': 'climate_mapping_resilience_and_adaptation_(cmra)_climate_and_coastal_inundation_projections',\n",
       " 'stac_version': '1.1.0',\n",
       " 'description': 'climate_mapping_resilience_and_adaptation_(cmra)_climate_and_coastal_inundation_projections',\n",
       " 'links': [{'rel': 'featureserver',\n",
       "   'href': 'https://services3.arcgis.com/0Fs3HcaFfvzXvm7w/ArcGIS/rest/services/Climate_Mapping_Resilience_and_Adaptation_(CMRA)_Climate_and_Coastal_Inundation_Projections/FeatureServer',\n",
       "   'type': 'application/json',\n",
       "   'title': 'ArcGIS FeatureServer',\n",
       "   'featureserver:layers': {0: 'Counties',\n",
       "    1: 'Tracts',\n",
       "    2: 'American Indian/Alaska Native/Native Hawaiian Areas'}},\n",
       "  {'rel': 'via',\n",
       "   'href': 'https://services3.arcgis.com/0Fs3HcaFfvzXvm7w/ArcGIS/rest/services/Climate_Mapping_Resilience_and_Adaptation_(CMRA)_Climate_and_Coastal_Inundation_Projections/FeatureServer',\n",
       "   'type': 'text/html',\n",
       "   'title': 'Parent ArcGIS server url'}],\n",
       " 'dashboard:is_timeless': True,\n",
       " 'title': 'climate mapping resilience and adaptation (cmra) climate and coastal inundation projections',\n",
       " 'extent': {'spatial': {'bbox': [[-179.23110125118885,\n",
       "     -14.601806016382575,\n",
       "     179.8596657289939,\n",
       "     71.43978570694523]]},\n",
       "  'temporal': {'interval': [[None, None]]}},\n",
       " 'license': 'not-applicable'}"
      ]
     },
     "execution_count": 6,
     "metadata": {},
     "output_type": "execute_result"
    }
   ],
   "source": [
    "collection.to_dict()"
   ]
  }
 ],
 "metadata": {
  "kernelspec": {
   "display_name": ".venv",
   "language": "python",
   "name": "python3"
  },
  "language_info": {
   "codemirror_mode": {
    "name": "ipython",
    "version": 3
   },
   "file_extension": ".py",
   "mimetype": "text/x-python",
   "name": "python",
   "nbconvert_exporter": "python",
   "pygments_lexer": "ipython3",
   "version": "3.10.9"
  }
 },
 "nbformat": 4,
 "nbformat_minor": 5
}
