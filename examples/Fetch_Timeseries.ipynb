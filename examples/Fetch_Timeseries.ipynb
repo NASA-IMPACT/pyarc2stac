{
 "cells": [
  {
   "cell_type": "code",
   "execution_count": 26,
   "id": "77e7cf7a-5922-498e-a983-ec618e2586b2",
   "metadata": {},
   "outputs": [],
   "source": [
    "from pyarc2stac import fetch_timeseries\n",
    "from datetime import datetime as dt\n",
    "from pydantic_geojson import FeatureCollectionModel"
   ]
  },
  {
   "cell_type": "code",
   "execution_count": 27,
   "id": "1b6ba6e4-7926-40e3-a78e-ca8e6cf5a899",
   "metadata": {},
   "outputs": [],
   "source": [
    "collection = \"POWER/power_901_annual_meterology_utc\"\n",
    "image_server_url = f\"https://arcgis.asdc.larc.nasa.gov/server/rest/services/{collection}/ImageServer\"\n",
    "variable = \"CDD18_3\"\n",
    "datetime_range = [dt.fromisoformat(\"2014-03-26T15:59:31Z\"), dt.fromisoformat(\"2024-03-26T15:59:31Z\")]\n",
    "aoi = FeatureCollectionModel.parse_obj({\"type\": \"FeatureCollection\",\n",
    "        \"features\":\n",
    "        [{\n",
    "            \"type\":\"Feature\",\n",
    "            \"properties\":{},\n",
    "            \"geometry\": {\n",
    "                \"type\": \"Polygon\",\n",
    "                \"coordinates\": [\n",
    "                    [\n",
    "\n",
    "                            [-122.30011,48.21193],\n",
    "                            [-119.13608,33.41563],\n",
    "                            [-76.94894,31.33747],\n",
    "                            [-74.83959,48.67833],\n",
    "                            [-122.30011,48.21193]\n",
    "\n",
    "                    ]\n",
    "                ]\n",
    "            }\n",
    "            }\n",
    "        ]\n",
    "    })"
   ]
  },
  {
   "cell_type": "code",
   "execution_count": 28,
   "id": "a682cc19-bbcc-4269-a661-29dacadbf49d",
   "metadata": {},
   "outputs": [
    {
     "ename": "TypeError",
     "evalue": "'FeatureCollectionModel' object is not subscriptable",
     "output_type": "error",
     "traceback": [
      "\u001b[0;31m---------------------------------------------------------------------------\u001b[0m",
      "\u001b[0;31mTypeError\u001b[0m                                 Traceback (most recent call last)",
      "Cell \u001b[0;32mIn[28], line 1\u001b[0m\n\u001b[0;32m----> 1\u001b[0m time_series \u001b[38;5;241m=\u001b[39m \u001b[43mfetch_timeseries\u001b[49m\u001b[43m(\u001b[49m\n\u001b[1;32m      2\u001b[0m \u001b[43m    \u001b[49m\u001b[43mimage_server_url\u001b[49m\u001b[43m,\u001b[49m\u001b[43m \u001b[49m\u001b[43mvariable\u001b[49m\u001b[43m,\u001b[49m\u001b[43m \u001b[49m\u001b[43mdatetime_range\u001b[49m\u001b[43m,\u001b[49m\u001b[43m \u001b[49m\u001b[43maoi\u001b[49m\n\u001b[1;32m      3\u001b[0m \u001b[43m)\u001b[49m\n",
      "File \u001b[0;32m~/repo/IMPACT/pyarc2stac/pyarc2stac/timeseries.py:28\u001b[0m, in \u001b[0;36mfetch_timeseries\u001b[0;34m(image_service_url, variable_name, datetime_range, aoi)\u001b[0m\n\u001b[1;32m     23\u001b[0m     return milliseconds_since_epoch\n\u001b[1;32m     26\u001b[0m # Function to fetch time series data\n\u001b[1;32m     27\u001b[0m def fetch_timeseries(image_service_url, variable_name, datetime_range, aoi):\n\u001b[0;32m---> 28\u001b[0m     # Construct the request parameters\n\u001b[1;32m     29\u001b[0m     params = {\n\u001b[1;32m     30\u001b[0m         \"geometry\": json.dumps(_convert_to_esri_polygon_geometry(aoi)).replace(\" \", \"\"),\n\u001b[1;32m     31\u001b[0m         \"geometryType\": \"esriGeometryPolygon\",\n\u001b[0;32m   (...)\u001b[0m\n\u001b[1;32m     41\u001b[0m         \"f\": \"pjson\",\n\u001b[1;32m     42\u001b[0m     }\n\u001b[1;32m     44\u001b[0m     # Send a GET request to the image service\n",
      "File \u001b[0;32m~/repo/IMPACT/pyarc2stac/pyarc2stac/timeseries.py:11\u001b[0m, in \u001b[0;36m_convert_to_esri_polygon_geometry\u001b[0;34m(aoi)\u001b[0m\n\u001b[1;32m      6\u001b[0m \u001b[38;5;28;01mimport\u001b[39;00m \u001b[38;5;21;01mnumpy\u001b[39;00m \u001b[38;5;28;01mas\u001b[39;00m \u001b[38;5;21;01mnp\u001b[39;00m\n\u001b[1;32m      8\u001b[0m \u001b[38;5;28;01mfrom\u001b[39;00m \u001b[38;5;21;01m.\u001b[39;00m\u001b[38;5;21;01mutils\u001b[39;00m \u001b[38;5;28;01mimport\u001b[39;00m convert_to_datetime\n\u001b[0;32m---> 11\u001b[0m \u001b[38;5;28;01mdef\u001b[39;00m \u001b[38;5;21m_convert_to_esri_polygon_geometry\u001b[39m(aoi):\n\u001b[1;32m     12\u001b[0m     \u001b[38;5;66;03m# aoi is a FeatureCollection from pydantic_geoson\u001b[39;00m\n\u001b[1;32m     13\u001b[0m     aoi_geometry \u001b[38;5;241m=\u001b[39m {\n\u001b[1;32m     14\u001b[0m         \u001b[38;5;124m\"\u001b[39m\u001b[38;5;124mrings\u001b[39m\u001b[38;5;124m\"\u001b[39m: aoi\u001b[38;5;241m.\u001b[39mfeatures[\u001b[38;5;241m0\u001b[39m]\u001b[38;5;241m.\u001b[39mgeometry\u001b[38;5;241m.\u001b[39mcoordinates,\n\u001b[1;32m     15\u001b[0m         \u001b[38;5;124m\"\u001b[39m\u001b[38;5;124mspatialReference\u001b[39m\u001b[38;5;124m\"\u001b[39m: {\u001b[38;5;124m\"\u001b[39m\u001b[38;5;124mwkid\u001b[39m\u001b[38;5;124m\"\u001b[39m: \u001b[38;5;241m4326\u001b[39m},\n\u001b[1;32m     16\u001b[0m     }\n\u001b[1;32m     17\u001b[0m     \u001b[38;5;28;01mreturn\u001b[39;00m aoi_geometry\n",
      "\u001b[0;31mTypeError\u001b[0m: 'FeatureCollectionModel' object is not subscriptable"
     ]
    }
   ],
   "source": [
    "time_series = fetch_timeseries(\n",
    "    image_server_url, variable, datetime_range, aoi\n",
    ")"
   ]
  },
  {
   "cell_type": "code",
   "execution_count": 5,
   "id": "cc8527b8-ecba-41e8-9507-93593efec59f",
   "metadata": {},
   "outputs": [
    {
     "data": {
      "text/plain": [
       "[{'date': '2014-12-31T00:03:36Z', 'mean': 532.2668539325842},\n",
       " {'date': '2015-12-31T05:52:48Z', 'mean': 591.5147471910112},\n",
       " {'date': '2016-12-30T11:42:00Z', 'mean': 637.8483146067418},\n",
       " {'date': '2017-12-30T17:31:12Z', 'mean': 597.4269662921347},\n",
       " {'date': '2018-12-30T23:20:24Z', 'mean': 678.9803370786515},\n",
       " {'date': '2019-12-31T05:09:36Z', 'mean': 599.3110955056179},\n",
       " {'date': '2020-12-30T10:58:48Z', 'mean': 628.1762640449439},\n",
       " {'date': '2021-12-30T16:48:00Z', 'mean': 680.6699438202247}]"
      ]
     },
     "execution_count": 5,
     "metadata": {},
     "output_type": "execute_result"
    }
   ],
   "source": [
    "time_series"
   ]
  },
  {
   "cell_type": "code",
   "execution_count": null,
   "id": "3bc16149-93ac-4e9a-b124-f6d80c7a718f",
   "metadata": {},
   "outputs": [],
   "source": []
  }
 ],
 "metadata": {
  "kernelspec": {
   "display_name": "Python 3 (ipykernel)",
   "language": "python",
   "name": "python3"
  },
  "language_info": {
   "codemirror_mode": {
    "name": "ipython",
    "version": 3
   },
   "file_extension": ".py",
   "mimetype": "text/x-python",
   "name": "python",
   "nbconvert_exporter": "python",
   "pygments_lexer": "ipython3",
   "version": "3.12.2"
  }
 },
 "nbformat": 4,
 "nbformat_minor": 5
}
