{
 "cells": [
  {
   "cell_type": "code",
   "execution_count": 8,
   "id": "77e7cf7a-5922-498e-a983-ec618e2586b2",
   "metadata": {},
   "outputs": [],
   "source": [
    "from pyarc2stac import fetch_timeseries\n",
    "from dateutil.parser import parse\n",
    "from pydantic_geojson import FeatureCollectionModel"
   ]
  },
  {
   "cell_type": "code",
   "execution_count": 9,
   "id": "1b6ba6e4-7926-40e3-a78e-ca8e6cf5a899",
   "metadata": {},
   "outputs": [],
   "source": [
    "collection = \"POWER/power_901_annual_meterology_utc\"\n",
    "image_server_url = f\"https://arcgis.asdc.larc.nasa.gov/server/rest/services/{collection}/ImageServer\"\n",
    "variable = \"CDD18_3\"\n",
    "datetime_range = [parse(\"2014-03-26T15:59:31Z\"), parse(\"2024-03-26T15:59:31Z\")]\n",
    "aoi = FeatureCollectionModel.parse_obj({\"type\": \"FeatureCollection\",\n",
    "        \"features\":\n",
    "        [{\n",
    "            \"type\":\"Feature\",\n",
    "            \"properties\":{},\n",
    "            \"geometry\": {\n",
    "                \"type\": \"Polygon\",\n",
    "                \"coordinates\": [\n",
    "                    [\n",
    "\n",
    "                            [-122.30011,48.21193],\n",
    "                            [-119.13608,33.41563],\n",
    "                            [-76.94894,31.33747],\n",
    "                            [-74.83959,48.67833],\n",
    "                            [-122.30011,48.21193]\n",
    "\n",
    "                    ]\n",
    "                ]\n",
    "            }\n",
    "            }\n",
    "        ]\n",
    "    })"
   ]
  },
  {
   "cell_type": "code",
   "execution_count": 10,
   "id": "a682cc19-bbcc-4269-a661-29dacadbf49d",
   "metadata": {},
   "outputs": [],
   "source": [
    "time_series = fetch_timeseries(\n",
    "    image_server_url, variable, datetime_range, aoi\n",
    ")"
   ]
  },
  {
   "cell_type": "code",
   "execution_count": 11,
   "id": "cc8527b8-ecba-41e8-9507-93593efec59f",
   "metadata": {},
   "outputs": [
    {
     "data": {
      "text/plain": [
       "{'2014-12-31T00:03:36Z': {'mean': 532.2668539325842,\n",
       "  'min': 0.0,\n",
       "  'max': 1934.625,\n",
       "  'std': 454.1403749291672,\n",
       "  'median': 407.125,\n",
       "  'sum': 47371.75},\n",
       " '2015-12-31T05:52:48Z': {'mean': 591.5147471910112,\n",
       "  'min': 0.3125,\n",
       "  'max': 1979.5625,\n",
       "  'std': 462.6275168712286,\n",
       "  'median': 493.0625,\n",
       "  'sum': 52644.8125},\n",
       " '2016-12-30T11:42:00Z': {'mean': 637.8483146067416,\n",
       "  'min': 3.5,\n",
       "  'max': 1917.9375,\n",
       "  'std': 480.6180531715164,\n",
       "  'median': 555.1875,\n",
       "  'sum': 56768.5},\n",
       " '2017-12-30T17:31:12Z': {'mean': 597.4269662921348,\n",
       "  'min': 0.5625,\n",
       "  'max': 1963.625,\n",
       "  'std': 449.9680326929591,\n",
       "  'median': 519.625,\n",
       "  'sum': 53171.0},\n",
       " '2018-12-30T23:20:24Z': {'mean': 678.9803370786517,\n",
       "  'min': 1.1875,\n",
       "  'max': 2058.1875,\n",
       "  'std': 500.38629114041765,\n",
       "  'median': 576.125,\n",
       "  'sum': 60429.25},\n",
       " '2019-12-31T05:09:36Z': {'mean': 599.311095505618,\n",
       "  'min': 0.0,\n",
       "  'max': 1794.6875,\n",
       "  'std': 500.69681132700197,\n",
       "  'median': 461.75,\n",
       "  'sum': 53338.6875},\n",
       " '2020-12-30T10:58:48Z': {'mean': 628.1762640449438,\n",
       "  'min': 2.9375,\n",
       "  'max': 2156.0,\n",
       "  'std': 449.99366535040787,\n",
       "  'median': 553.6875,\n",
       "  'sum': 55907.6875},\n",
       " '2021-12-30T16:48:00Z': {'mean': 680.6699438202247,\n",
       "  'min': 14.375,\n",
       "  'max': 2135.5625,\n",
       "  'std': 410.6575475989658,\n",
       "  'median': 679.375,\n",
       "  'sum': 60579.625}}"
      ]
     },
     "execution_count": 11,
     "metadata": {},
     "output_type": "execute_result"
    }
   ],
   "source": [
    "time_series"
   ]
  },
  {
   "cell_type": "code",
   "execution_count": 12,
   "id": "3bc16149-93ac-4e9a-b124-f6d80c7a718f",
   "metadata": {},
   "outputs": [],
   "source": [
    "import json\n",
    "import requests\n",
    "map_server_url = \"https://gis1.servirglobal.net/arcgis/rest/services/Global/ESI_4WK/MapServer\"\n",
    "\n",
    "aoi = {\n",
    "    \"type\": \"FeatureCollection\",\n",
    "    \"features\": [{\n",
    "        \"type\": \"Feature\",\n",
    "        \"properties\": {},\n",
    "        \"geometry\": {\n",
    "            \"type\": \"Polygon\",\n",
    "            \"coordinates\": [\n",
    "                [\n",
    "                    [-179.30011, 89.21193],\n",
    "                    [-179.30011, 89.41563],\n",
    "                    [-179.30011, 89.41563],\n",
    "                    [-179.30011, 89.41563],\n",
    "                    [-179.30011, 89.41563]\n",
    "                ]\n",
    "            ]\n",
    "        }\n",
    "    }]\n",
    "}\n",
    "def query_mapserver(layer_id, start_time, end_time):\n",
    "    query_url = f\"{map_server_url}/{layer_id}/query\"\n",
    "    print(f\"{int(start_time.timestamp() * 1000)},{int(end_time.timestamp() * 1000)}\")\n",
    "    params = {\n",
    "        'geometry': json.dumps(aoi['features'][0]['geometry']),\n",
    "        'geometryType': 'esriGeometryPolygon',\n",
    "        'time': f\"{int(start_time.timestamp() * 1000)},{int(end_time.timestamp() * 1000)}\",\n",
    "        'outFields': '*',\n",
    "        'f': 'json'\n",
    "    }\n",
    "    \n",
    "    response = requests.get(query_url, params=params)\n",
    "    response.raise_for_status()\n",
    "    return response.json()"
   ]
  },
  {
   "cell_type": "code",
   "execution_count": 13,
   "id": "3e80410a",
   "metadata": {},
   "outputs": [
    {
     "name": "stdout",
     "output_type": "stream",
     "text": [
      "1679864371000,1711486771000\n"
     ]
    },
    {
     "data": {
      "text/plain": [
       "{'error': {'code': 400, 'message': '', 'details': []}}"
      ]
     },
     "execution_count": 13,
     "metadata": {},
     "output_type": "execute_result"
    }
   ],
   "source": [
    "from datetime import datetime, timedelta\n",
    "datetime_range = (\"2023-03-26T15:59:31Z\", \"2024-03-26T15:59:31Z\")\n",
    "# Define start and end times\n",
    "start_date_str, end_date_str = datetime_range\n",
    "start_date = datetime.strptime(start_date_str, '%Y-%m-%dT%H:%M:%SZ')\n",
    "end_date = datetime.strptime(end_date_str, '%Y-%m-%dT%H:%M:%SZ')\n",
    "query_mapserver(1,start_date,end_date )"
   ]
  },
  {
   "cell_type": "code",
   "execution_count": null,
   "id": "cd2f3971",
   "metadata": {},
   "outputs": [],
   "source": []
  }
 ],
 "metadata": {
  "kernelspec": {
   "display_name": "Python 3 (ipykernel)",
   "language": "python",
   "name": "python3"
  },
  "language_info": {
   "codemirror_mode": {
    "name": "ipython",
    "version": 3
   },
   "file_extension": ".py",
   "mimetype": "text/x-python",
   "name": "python",
   "nbconvert_exporter": "python",
   "pygments_lexer": "ipython3",
   "version": "3.10.14"
  }
 },
 "nbformat": 4,
 "nbformat_minor": 5
}
