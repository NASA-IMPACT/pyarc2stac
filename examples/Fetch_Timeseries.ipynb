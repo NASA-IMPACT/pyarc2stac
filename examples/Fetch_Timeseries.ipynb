{
 "cells": [
  {
   "cell_type": "code",
   "execution_count": 1,
   "id": "77e7cf7a-5922-498e-a983-ec618e2586b2",
   "metadata": {},
   "outputs": [],
   "source": [
    "from pyarc2stac import fetch_timeseries "
   ]
  },
  {
   "cell_type": "code",
   "execution_count": 2,
   "id": "1b6ba6e4-7926-40e3-a78e-ca8e6cf5a899",
   "metadata": {},
   "outputs": [],
   "source": [
    "collection = \"POWER/power_901_annual_meterology_utc\"\n",
    "image_server_url = f\"https://arcgis.asdc.larc.nasa.gov/server/rest/services/{collection}/ImageServer\"\n",
    "variable = \"CDD18_3\"\n",
    "datetime_range = \"2014-03-26T15:59:31Z,2024-03-26T15:59:31Z\"\n",
    "aoi = {\"type\": \"FeatureCollection\",\n",
    "        \"features\":\n",
    "        [{\n",
    "            \"type\":\"Feature\",\n",
    "            \"properties\":{},\n",
    "            \"geometry\": {\n",
    "                \"type\": \"Polygon\",\n",
    "                \"coordinates\": [\n",
    "                    [\n",
    "\n",
    "                            [-122.30011,48.21193],\n",
    "                            [-119.13608,33.41563],\n",
    "                            [-76.94894,31.33747],\n",
    "                            [-74.83959,48.67833],\n",
    "                            [-122.30011,48.21193]\n",
    "\n",
    "                    ]\n",
    "                ]\n",
    "            }\n",
    "            }\n",
    "        ]\n",
    "    }"
   ]
  },
  {
   "cell_type": "code",
   "execution_count": 3,
   "id": "a682cc19-bbcc-4269-a661-29dacadbf49d",
   "metadata": {},
   "outputs": [],
   "source": [
    "time_series = fetch_timeseries(\n",
    "            image_server_url, variable, datetime_range, aoi\n",
    "        )"
   ]
  },
  {
   "cell_type": "code",
   "execution_count": 4,
   "id": "cc8527b8-ecba-41e8-9507-93593efec59f",
   "metadata": {},
   "outputs": [
    {
     "data": {
      "text/plain": [
       "[{'date': '2014-12-31T00:03:36Z', 'mean': 532.2668539325842},\n",
       " {'date': '2015-12-31T05:52:48Z', 'mean': 591.5147471910112},\n",
       " {'date': '2016-12-30T11:42:00Z', 'mean': 637.8483146067418},\n",
       " {'date': '2017-12-30T17:31:12Z', 'mean': 597.4269662921347},\n",
       " {'date': '2018-12-30T23:20:24Z', 'mean': 678.9803370786515},\n",
       " {'date': '2019-12-31T05:09:36Z', 'mean': 599.3110955056179},\n",
       " {'date': '2020-12-30T10:58:48Z', 'mean': 628.1762640449439},\n",
       " {'date': '2021-12-30T16:48:00Z', 'mean': 680.6699438202247}]"
      ]
     },
     "execution_count": 4,
     "metadata": {},
     "output_type": "execute_result"
    }
   ],
   "source": [
    "time_series"
   ]
  },
  {
   "cell_type": "code",
   "execution_count": null,
   "id": "3bc16149-93ac-4e9a-b124-f6d80c7a718f",
   "metadata": {},
   "outputs": [],
   "source": []
  }
 ],
 "metadata": {
  "kernelspec": {
   "display_name": "Python 3 (ipykernel)",
   "language": "python",
   "name": "python3"
  },
  "language_info": {
   "codemirror_mode": {
    "name": "ipython",
    "version": 3
   },
   "file_extension": ".py",
   "mimetype": "text/x-python",
   "name": "python",
   "nbconvert_exporter": "python",
   "pygments_lexer": "ipython3",
   "version": "3.10.14"
  }
 },
 "nbformat": 4,
 "nbformat_minor": 5
}
