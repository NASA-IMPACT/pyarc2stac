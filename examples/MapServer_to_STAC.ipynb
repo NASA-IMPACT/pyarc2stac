{
 "cells": [
  {
   "cell_type": "code",
   "execution_count": 3,
   "id": "b1421e97-6659-47d8-903e-bed216cfbbd2",
   "metadata": {},
   "outputs": [],
   "source": [
    "from pyarc2stac.ArcReader import ArcReader"
   ]
  },
  {
   "cell_type": "code",
   "execution_count": 8,
   "id": "c567f271-31dc-4752-b35b-97bd3cd17ed0",
   "metadata": {},
   "outputs": [],
   "source": [
    "map_server_url = \"https://gis1.servirglobal.net/arcgis/rest/services/Global/ESI_4WK/MapServer\""
   ]
  },
  {
   "cell_type": "code",
   "execution_count": 9,
   "id": "23aa0665-3d8b-4a0f-b146-15b199a6d58a",
   "metadata": {},
   "outputs": [],
   "source": [
    "reader = ArcReader(\n",
    "    server_url = map_server_url\n",
    ")"
   ]
  },
  {
   "cell_type": "code",
   "execution_count": 10,
   "id": "64d7556a-0ffa-4ee3-921a-319c29e62ccb",
   "metadata": {
    "scrolled": true
   },
   "outputs": [],
   "source": [
    "collection = reader.generate_stac()"
   ]
  },
  {
   "cell_type": "code",
   "execution_count": 11,
   "id": "82c50e3f-8455-4aef-a220-1ec1e0150e82",
   "metadata": {},
   "outputs": [
    {
     "data": {
      "text/plain": [
       "{'type': 'Collection',\n",
       " 'id': 'global_esi_4wk',\n",
       " 'stac_version': '1.1.0',\n",
       " 'description': '<DIV STYLE=\"text-align:Left;font-size:12pt\"><P><SPAN><SPAN>The new global dataset, called the Evaporative Stress Index (ESI), available online and produced weekly at 5-kilometer resolution for the entire globe, reveals regions of drought where vegetation is stressed due to lack of water, enabling agriculture ministries to provide farmers with actionable advice about irrigation. The ESI can capture early signals of “flash drought,” a condition brought on by extended periods of hot, dry, and windy conditions leading to rapid soil moisture depletion. Reduced rates of water loss can be observed through the use of land surface temperature before it can be observed through decreases in vegetation health or “greenness.” The ESI describes soil moisture across the landscape without using observed rainfall data. This is critical in developing regions and other parts of the world lacking sufficient ground-based observations of rainfall. The ESI is based on satellite observations of land surface temperature, which are used to estimate water loss due to evapotranspiration (ET), the loss of water via evaporation from soil and plant surfaces and via transpiration through plant leaves. Generally, healthy green vegetation with access to an adequate supply of water warms at a much slower rate than does dry and/or stressed vegetation. Based on variations in land surface temperature, the ESI indicates how the current rate of ET compares to normal conditions. Negative ESI values show below normal ET rates, indicating vegetation that stressed due to inadequate soil moisture. (Plants’ first response when stressed from lack of water is to reduce their transpiration to conserve water within the plant.)</SPAN></SPAN></P></DIV>',\n",
       " 'links': [{'rel': 'wms',\n",
       "   'href': 'https://gis1.servirglobal.net/arcgis/services/Global/ESI_4WK/MapServer/WMSServer?request=GetCapabilities&service=WMS',\n",
       "   'type': 'image/png',\n",
       "   'title': 'Visualized through a WMS',\n",
       "   'wms:layers': ['1', '2', '3'],\n",
       "   'wms:styles': ['default']},\n",
       "  {'rel': 'via',\n",
       "   'href': 'https://gis1.servirglobal.net/arcgis/rest/services/Global/ESI_4WK/MapServer',\n",
       "   'type': 'text/html',\n",
       "   'title': 'Parent ArcGIS server url'}],\n",
       " 'stac_extensions': ['https://stac-extensions.github.io/render/v2.0.0/schema.json'],\n",
       " 'renders': {'image': {'layers': '1'},\n",
       "  'footprint': {'layers': '2'},\n",
       "  'boundary': {'layers': '3'}},\n",
       " 'dashboard:is_periodic': True,\n",
       " 'dashboard:time_density': 'day',\n",
       " 'dashboard:time_interval': 'P7D',\n",
       " 'title': 'global esi 4wk',\n",
       " 'extent': {'spatial': {'bbox': [[-180,\n",
       "     -60,\n",
       "     180.0000000000001,\n",
       "     90.00000000000009]]},\n",
       "  'temporal': {'interval': [['2001-01-02T00:00:00Z',\n",
       "     '2025-02-19T00:00:00Z']]}},\n",
       " 'license': 'not-applicable'}"
      ]
     },
     "execution_count": 11,
     "metadata": {},
     "output_type": "execute_result"
    }
   ],
   "source": [
    "collection.to_dict()"
   ]
  }
 ],
 "metadata": {
  "kernelspec": {
   "display_name": ".venv",
   "language": "python",
   "name": "python3"
  },
  "language_info": {
   "codemirror_mode": {
    "name": "ipython",
    "version": 3
   },
   "file_extension": ".py",
   "mimetype": "text/x-python",
   "name": "python",
   "nbconvert_exporter": "python",
   "pygments_lexer": "ipython3",
   "version": "3.10.9"
  }
 },
 "nbformat": 4,
 "nbformat_minor": 5
}
